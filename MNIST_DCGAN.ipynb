{
 "cells": [
  {
   "cell_type": "markdown",
   "metadata": {
    "slideshow": {
     "slide_type": "slide"
    }
   },
   "source": [
    "## Show some basicasad gan structureasdasd"
   ]
  },
  {
   "cell_type": "code",
   "execution_count": 41,
   "metadata": {
    "collapsed": true,
    "slideshow": {
     "slide_type": "slide"
    }
   },
   "outputs": [],
   "source": [
    "import random\n",
    "import numpy as np\n",
    "import matplotlib.pyplot as plt\n",
    "from sklearn.datasets import fetch_mldata\n",
    "%matplotlib inline\n"
   ]
  },
  {
   "cell_type": "code",
   "execution_count": 42,
   "metadata": {
    "collapsed": true,
    "slideshow": {
     "slide_type": "slide"
    }
   },
   "outputs": [],
   "source": [
    "mnist = fetch_mldata('MNIST original', data_home=\"mnist/mnist\")"
   ]
  },
  {
   "cell_type": "markdown",
   "metadata": {
    "slideshow": {
     "slide_type": "slide"
    }
   },
   "source": [
    "## Load Data and print some stats yas"
   ]
  },
  {
   "cell_type": "code",
   "execution_count": 43,
   "metadata": {
    "slideshow": {
     "slide_type": "slide"
    }
   },
   "outputs": [
    {
     "name": "stdout",
     "output_type": "stream",
     "text": [
      "Num Samples: 70000\n",
      "Percentage 0's: 9.9 %\n",
      "Percentage 1's: 11.3 %\n",
      "Percentage 2's: 10.0 %\n",
      "Percentage 3's: 10.2 %\n",
      "Percentage 4's: 9.7 %\n",
      "Percentage 5's: 9.0 %\n",
      "Percentage 6's: 9.8 %\n",
      "Percentage 7's: 10.4 %\n",
      "Percentage 8's: 9.8 %\n",
      "Percentage 9's: 9.9 %\n"
     ]
    }
   ],
   "source": [
    "x = mnist[\"data\"]\n",
    "y = mnist[\"target\"]\n",
    "\n",
    "x = x.reshape(-1, 1, 28, 28)\n",
    "x = x.astype(np.float32)\n",
    "x /= x.max()\n",
    "\n",
    "print(\"Num Samples: {}\".format(x.shape[0]))\n",
    "for c in range(len(set(y))):\n",
    "    print(\"Percentage %i's: %.1f %%\"%(c, len(y[y==c])/len(y)*100))"
   ]
  },
  {
   "cell_type": "markdown",
   "metadata": {
    "slideshow": {
     "slide_type": "slide"
    }
   },
   "source": [
    "Show some samples"
   ]
  },
  {
   "cell_type": "code",
   "execution_count": 44,
   "metadata": {
    "code_folding": [
     0
    ],
    "slideshow": {
     "slide_type": "slide"
    }
   },
   "outputs": [
    {
     "data": {
      "image/png": "[encoded data removed]",
      "text/plain": [
       "<matplotlib.figure.Figure at 0x7f76a0223630>"
      ]
     },
     "metadata": {},
     "output_type": "display_data"
    }
   ],
   "source": [
    "def make_big_picture(x, num_rows=4, num_cols=12):\n",
    "        big_picture = (x[np.random.choice(range(x.shape[0]),num_rows)])\n",
    "        big_picture = big_picture.reshape(-1,28)\n",
    "        for col in range(num_cols-1):\n",
    "            tmp = (x[np.random.choice(range(x.shape[0]),num_rows)])\n",
    "            big_picture = np.hstack(tup=(tmp.reshape(-1,28), big_picture))\n",
    "        return big_picture   \n",
    "\n",
    "big_picture = make_big_picture(x)\n",
    "\n",
    "plt.figure(figsize=(12,12))\n",
    "plt.imshow(big_picture, cmap=plt.cm.gray)\n",
    "plt.xticks([])\n",
    "plt.yticks([]);\n",
    "\n",
    "plt.savefig(\"pics/mnist_truth.png\", bbox_inches='tight',  )"
   ]
  },
  {
   "cell_type": "code",
   "execution_count": 57,
   "metadata": {
    "code_folding": [
     6
    ],
    "slideshow": {
     "slide_type": "slide"
    }
   },
   "outputs": [
    {
     "data": {
      "text/plain": [
       "G(\n",
       "  (convT_1): ConvTranspose2d (100, 256, kernel_size=(7, 7), stride=(1, 1), bias=False)\n",
       "  (bn_1): BatchNorm2d(256, eps=1e-05, momentum=0.1, affine=True)\n",
       "  (convT_2): ConvTranspose2d (256, 128, kernel_size=(5, 5), stride=(2, 2), padding=(2, 2), output_padding=(1, 1))\n",
       "  (convT_3): ConvTranspose2d (128, 64, kernel_size=(5, 5), stride=(2, 2), padding=(2, 2), output_padding=(1, 1), bias=False)\n",
       "  (bn_3): BatchNorm2d(64, eps=1e-05, momentum=0.1, affine=True)\n",
       "  (conv1): Conv2d (64, 1, kernel_size=(3, 3), stride=(1, 1), padding=(1, 1))\n",
       ")"
      ]
     },
     "execution_count": 57,
     "metadata": {},
     "output_type": "execute_result"
    }
   ],
   "source": [
    "import torch\n",
    "import torch.nn as nn\n",
    "import torch.nn.functional as F\n",
    "import torch.optim as optim\n",
    "from torch.autograd import Variable\n",
    "\n",
    "class G(nn.Module):\n",
    "    def __init__(self):\n",
    "        super(G, self).__init__()\n",
    "        self.dr_rate = .2\n",
    "        \n",
    "        self.convT_1 = nn.ConvTranspose2d(in_channels=100,\n",
    "                                            out_channels=256,\n",
    "                                            kernel_size=(7,7),\n",
    "                                            padding=0,\n",
    "                                            output_padding=0,\n",
    "                                            stride=1,\n",
    "                                            bias=False)\n",
    "        self.bn_1 = nn.BatchNorm2d(256)\n",
    "        \n",
    "        self.convT_2 = nn.ConvTranspose2d(in_channels=256,\n",
    "                                            out_channels=128,\n",
    "                                            kernel_size=5,\n",
    "                                            padding=2,\n",
    "                                            output_padding=1,\n",
    "                                            stride=2,\n",
    "                                            bias=True)\n",
    "        \n",
    "        self.convT_3 = nn.ConvTranspose2d(in_channels=128,\n",
    "                                            out_channels=64,\n",
    "                                            kernel_size=5,\n",
    "                                            padding=2,\n",
    "                                            output_padding=1,\n",
    "                                            stride=2,\n",
    "                                            bias=False)\n",
    "        self.bn_3 = nn.BatchNorm2d(64)\n",
    "        \n",
    "        self.conv1 = nn.Conv2d(in_channels=64,\n",
    "                                out_channels=1,\n",
    "                                kernel_size=3,\n",
    "                                padding=1,\n",
    "                                stride=1,\n",
    "                                bias=True)\n",
    "        \n",
    "    def forward(self, z):\n",
    "        dropout = nn.Dropout(p=self.dr_rate)\n",
    "        z = dropout(F.leaky_relu(self.convT_1(z), negative_slope=0.1))\n",
    "        z = self.bn_1(z)\n",
    "        \n",
    "        z = dropout(F.leaky_relu(self.convT_2(z), negative_slope=0.1))\n",
    "        \n",
    "        z = F.leaky_relu(self.convT_3(z), negative_slope=0.1)\n",
    "        z = self.bn_3(z)\n",
    "        \n",
    "        z = F.sigmoid(self.conv1(z))   \n",
    "        return z\n",
    "        \n",
    "g = G()\n",
    "g.cuda()"
   ]
  },
  {
   "cell_type": "code",
   "execution_count": 58,
   "metadata": {
    "code_folding": [],
    "slideshow": {
     "slide_type": "slide"
    }
   },
   "outputs": [
    {
     "data": {
      "text/plain": [
       "D(\n",
       "  (conv1): Conv2d (1, 32, kernel_size=(3, 3), stride=(2, 2), padding=(1, 1))\n",
       "  (conv2): Conv2d (32, 64, kernel_size=(3, 3), stride=(2, 2), padding=(1, 1))\n",
       "  (conv3): Conv2d (64, 128, kernel_size=(3, 3), stride=(2, 2), padding=(1, 1))\n",
       "  (fc1): Linear(in_features=2048, out_features=512)\n",
       "  (fc2): Linear(in_features=512, out_features=1)\n",
       ")"
      ]
     },
     "execution_count": 58,
     "metadata": {},
     "output_type": "execute_result"
    }
   ],
   "source": [
    "class D(nn.Module):\n",
    "    def __init__(self):\n",
    "        super(D, self).__init__()\n",
    "        self.dr_rate = 0.2\n",
    "        \n",
    "        self.conv1 = nn.Conv2d(in_channels=1,\n",
    "                               out_channels=32, \n",
    "                               kernel_size=3, \n",
    "                               stride=2,\n",
    "                               padding=1)\n",
    "        \n",
    "        self.conv2 = nn.Conv2d(in_channels=32,\n",
    "                               out_channels=64, \n",
    "                               kernel_size=3, \n",
    "                               stride=2,\n",
    "                               padding=1)\n",
    "        \n",
    "        self.conv3 = nn.Conv2d(in_channels=64,\n",
    "                               out_channels=128, \n",
    "                               kernel_size=3, \n",
    "                               stride=2,\n",
    "                               padding=1)\n",
    "        \n",
    "        self.fc1 = nn.Linear(in_features=128 * 4 * 4, \n",
    "                             out_features=512)\n",
    "        \n",
    "        self.fc2 = nn.Linear(in_features=512,\n",
    "                             out_features=1)\n",
    "\n",
    "    \n",
    "    def dr_rate(self, dr_rate):\n",
    "        self.dr_rate = dr_rate\n",
    "\n",
    "    def forward(self, x):\n",
    "        dropout = nn.Dropout(p=self.dr_rate)\n",
    "        # Convolutional Part\n",
    "        x = dropout(F.leaky_relu(self.conv1(x), negative_slope=.1))\n",
    "        x = dropout(F.leaky_relu(self.conv2(x), negative_slope=.1))\n",
    "        x = dropout(F.leaky_relu(self.conv3(x), negative_slope=.1))\n",
    "        \n",
    "        # Flatten\n",
    "        x = x.view(-1, 128 * 4 * 4)\n",
    "        # Dense Layers\n",
    "        x = dropout(F.relu(self.fc1(x)))\n",
    "        x = F.sigmoid(self.fc2(x))\n",
    "        return x\n",
    "\n",
    "d = D()\n",
    "d.cuda()"
   ]
  },
  {
   "cell_type": "code",
   "execution_count": 59,
   "metadata": {
    "collapsed": true,
    "slideshow": {
     "slide_type": "slide"
    }
   },
   "outputs": [],
   "source": [
    "criterion = nn.BCELoss()\n",
    "d_optimizer = optim.Adam(d.parameters(), lr=0.0001)\n",
    "g_optimizer = optim.Adam(g.parameters(), lr=0.0001)"
   ]
  },
  {
   "cell_type": "code",
   "execution_count": 60,
   "metadata": {
    "collapsed": true,
    "slideshow": {
     "slide_type": "slide"
    }
   },
   "outputs": [],
   "source": [
    "batch_size = 16\n",
    "num_steps = 10000\n",
    "\n",
    "latent_size = 100"
   ]
  },
  {
   "cell_type": "code",
   "execution_count": 61,
   "metadata": {
    "collapsed": true
   },
   "outputs": [],
   "source": [
    "z_fixed_npy = np.random.normal(loc=0,scale=1, size=(1,latent_size,1,1)).astype(np.float32)"
   ]
  },
  {
   "cell_type": "code",
   "execution_count": 62,
   "metadata": {
    "code_folding": [],
    "scrolled": true,
    "slideshow": {
     "slide_type": "slide"
    }
   },
   "outputs": [
    {
     "name": "stderr",
     "output_type": "stream",
     "text": [
      "\n",
      "  0%|          | 0/100000 [00:00<?, ?it/s]\u001b[A\n",
      "  0%|          | 1/100000 [00:00<4:29:37,  6.18it/s]\u001b[A\n",
      "  0%|          | 7/100000 [00:00<1:03:01, 26.44it/s]\u001b[A\n",
      "  0%|          | 13/100000 [00:00<47:44, 34.91it/s] \u001b[A\n",
      "  0%|          | 19/100000 [00:00<42:06, 39.58it/s]\u001b[A\n",
      "  0%|          | 25/100000 [00:00<39:11, 42.52it/s]\u001b[A\n",
      "  0%|          | 31/100000 [00:00<37:22, 44.58it/s]\u001b[A\n",
      "  0%|          | 37/100000 [00:00<36:11, 46.03it/s]\u001b[A\n",
      "  0%|          | 43/100000 [00:00<35:18, 47.18it/s]\u001b[A\n",
      "  0%|          | 49/100000 [00:01<34:31, 48.25it/s]\u001b[A\n",
      "  0%|          | 55/100000 [00:01<34:07, 48.80it/s]\u001b[A\n",
      "  0%|          | 61/100000 [00:01<33:45, 49.34it/s]\u001b[A\n",
      "  0%|          | 67/100000 [00:01<33:26, 49.80it/s]\u001b[A\n",
      "  0%|          | 73/100000 [00:01<33:10, 50.19it/s]\u001b[A\n",
      "  0%|          | 79/100000 [00:01<32:56, 50.54it/s]\u001b[A\n",
      "  0%|          | 85/100000 [00:01<32:48, 50.75it/s]\u001b[A\n",
      "  0%|          | 91/100000 [00:01<32:37, 51.04it/s]\u001b[A\n",
      "  0%|          | 97/100000 [00:01<32:28, 51.28it/s]\u001b[A\n",
      "  0%|          | 103/100000 [00:02<34:12, 48.68it/s]\u001b[A\n",
      "  0%|          | 109/100000 [00:02<34:03, 48.88it/s]\u001b[A\n",
      "  0%|          | 115/100000 [00:02<33:58, 48.99it/s]\u001b[A\n",
      "  0%|          | 121/100000 [00:02<33:51, 49.16it/s]\u001b[A\n",
      "  0%|          | 127/100000 [00:02<33:42, 49.39it/s]\u001b[A\n",
      "  0%|          | 133/100000 [00:02<33:34, 49.57it/s]\u001b[A\n",
      "  0%|          | 139/100000 [00:02<33:26, 49.77it/s]\u001b[A\n",
      "  0%|          | 145/100000 [00:02<33:19, 49.95it/s]\u001b[A\n",
      "  0%|          | 151/100000 [00:03<33:14, 50.05it/s]\u001b[A\n",
      "  0%|          | 157/100000 [00:03<33:09, 50.19it/s]\u001b[A\n",
      "  0%|          | 163/100000 [00:03<33:05, 50.28it/s]\u001b[A\n",
      "  0%|          | 169/100000 [00:03<33:02, 50.36it/s]\u001b[A\n",
      "  0%|          | 175/100000 [00:03<32:57, 50.49it/s]\u001b[A\n",
      "  0%|          | 181/100000 [00:03<32:51, 50.62it/s]\u001b[A\n",
      "  0%|          | 187/100000 [00:03<32:49, 50.69it/s]\u001b[A\n",
      "  0%|          | 193/100000 [00:03<32:47, 50.72it/s]\u001b[A\n",
      "  0%|          | 199/100000 [00:03<32:46, 50.75it/s]\u001b[A\n",
      "Exception in thread Thread-10:\n",
      "Traceback (most recent call last):\n",
      "  File \"/mnt/fs2/home/alook/anaconda2/envs/torch/lib/python3.6/threading.py\", line 916, in _bootstrap_inner\n",
      "    self.run()\n",
      "  File \"/mnt/fs2/home/alook/anaconda2/envs/torch/lib/python3.6/site-packages/tqdm/_tqdm.py\", line 144, in run\n",
      "    for instance in self.tqdm_cls._instances:\n",
      "  File \"/mnt/fs2/home/alook/anaconda2/envs/torch/lib/python3.6/_weakrefset.py\", line 60, in __iter__\n",
      "    for itemref in self.data:\n",
      "RuntimeError: Set changed size during iteration\n",
      "\n",
      "  9%|▉         | 9446/100000 [02:58<28:32, 52.88it/s]\n"
     ]
    },
    {
     "ename": "KeyboardInterrupt",
     "evalue": "",
     "output_type": "error",
     "traceback": [
      "\u001b[0;31m---------------------------------------------------------------------------\u001b[0m",
      "\u001b[0;31mKeyboardInterrupt\u001b[0m                         Traceback (most recent call last)",
      "\u001b[0;32m<ipython-input-62-4ebc826cdd14>\u001b[0m in \u001b[0;36m<module>\u001b[0;34m()\u001b[0m\n\u001b[1;32m     21\u001b[0m     \u001b[0mx_train\u001b[0m \u001b[0;34m=\u001b[0m \u001b[0mg\u001b[0m\u001b[0;34m(\u001b[0m\u001b[0mz\u001b[0m\u001b[0;34m)\u001b[0m\u001b[0;34m.\u001b[0m\u001b[0mdetach\u001b[0m\u001b[0;34m(\u001b[0m\u001b[0;34m)\u001b[0m\u001b[0;34m\u001b[0m\u001b[0m\n\u001b[1;32m     22\u001b[0m     \u001b[0my_pred\u001b[0m \u001b[0;34m=\u001b[0m \u001b[0md\u001b[0m\u001b[0;34m(\u001b[0m\u001b[0mx_train\u001b[0m\u001b[0;34m)\u001b[0m\u001b[0;34m\u001b[0m\u001b[0m\n\u001b[0;32m---> 23\u001b[0;31m     \u001b[0md_loss\u001b[0m \u001b[0;34m=\u001b[0m \u001b[0mcriterion\u001b[0m\u001b[0;34m(\u001b[0m\u001b[0my_pred\u001b[0m\u001b[0;34m,\u001b[0m \u001b[0my_train\u001b[0m\u001b[0;34m)\u001b[0m\u001b[0;34m\u001b[0m\u001b[0m\n\u001b[0m\u001b[1;32m     24\u001b[0m     \u001b[0md_loss\u001b[0m\u001b[0;34m.\u001b[0m\u001b[0mbackward\u001b[0m\u001b[0;34m(\u001b[0m\u001b[0;34m)\u001b[0m\u001b[0;34m\u001b[0m\u001b[0m\n\u001b[1;32m     25\u001b[0m \u001b[0;34m\u001b[0m\u001b[0m\n",
      "\u001b[0;32m~/anaconda2/envs/torch/lib/python3.6/site-packages/torch/nn/modules/module.py\u001b[0m in \u001b[0;36m__call__\u001b[0;34m(self, *input, **kwargs)\u001b[0m\n\u001b[1;32m    323\u001b[0m         \u001b[0;32mfor\u001b[0m \u001b[0mhook\u001b[0m \u001b[0;32min\u001b[0m \u001b[0mself\u001b[0m\u001b[0;34m.\u001b[0m\u001b[0m_forward_pre_hooks\u001b[0m\u001b[0;34m.\u001b[0m\u001b[0mvalues\u001b[0m\u001b[0;34m(\u001b[0m\u001b[0;34m)\u001b[0m\u001b[0;34m:\u001b[0m\u001b[0;34m\u001b[0m\u001b[0m\n\u001b[1;32m    324\u001b[0m             \u001b[0mhook\u001b[0m\u001b[0;34m(\u001b[0m\u001b[0mself\u001b[0m\u001b[0;34m,\u001b[0m \u001b[0minput\u001b[0m\u001b[0;34m)\u001b[0m\u001b[0;34m\u001b[0m\u001b[0m\n\u001b[0;32m--> 325\u001b[0;31m         \u001b[0mresult\u001b[0m \u001b[0;34m=\u001b[0m \u001b[0mself\u001b[0m\u001b[0;34m.\u001b[0m\u001b[0mforward\u001b[0m\u001b[0;34m(\u001b[0m\u001b[0;34m*\u001b[0m\u001b[0minput\u001b[0m\u001b[0;34m,\u001b[0m \u001b[0;34m**\u001b[0m\u001b[0mkwargs\u001b[0m\u001b[0;34m)\u001b[0m\u001b[0;34m\u001b[0m\u001b[0m\n\u001b[0m\u001b[1;32m    326\u001b[0m         \u001b[0;32mfor\u001b[0m \u001b[0mhook\u001b[0m \u001b[0;32min\u001b[0m \u001b[0mself\u001b[0m\u001b[0;34m.\u001b[0m\u001b[0m_forward_hooks\u001b[0m\u001b[0;34m.\u001b[0m\u001b[0mvalues\u001b[0m\u001b[0;34m(\u001b[0m\u001b[0;34m)\u001b[0m\u001b[0;34m:\u001b[0m\u001b[0;34m\u001b[0m\u001b[0m\n\u001b[1;32m    327\u001b[0m             \u001b[0mhook_result\u001b[0m \u001b[0;34m=\u001b[0m \u001b[0mhook\u001b[0m\u001b[0;34m(\u001b[0m\u001b[0mself\u001b[0m\u001b[0;34m,\u001b[0m \u001b[0minput\u001b[0m\u001b[0;34m,\u001b[0m \u001b[0mresult\u001b[0m\u001b[0;34m)\u001b[0m\u001b[0;34m\u001b[0m\u001b[0m\n",
      "\u001b[0;32m~/anaconda2/envs/torch/lib/python3.6/site-packages/torch/nn/modules/loss.py\u001b[0m in \u001b[0;36mforward\u001b[0;34m(self, input, target)\u001b[0m\n\u001b[1;32m    370\u001b[0m         \u001b[0m_assert_no_grad\u001b[0m\u001b[0;34m(\u001b[0m\u001b[0mtarget\u001b[0m\u001b[0;34m)\u001b[0m\u001b[0;34m\u001b[0m\u001b[0m\n\u001b[1;32m    371\u001b[0m         return F.binary_cross_entropy(input, target, weight=self.weight,\n\u001b[0;32m--> 372\u001b[0;31m                                       size_average=self.size_average)\n\u001b[0m\u001b[1;32m    373\u001b[0m \u001b[0;34m\u001b[0m\u001b[0m\n\u001b[1;32m    374\u001b[0m \u001b[0;34m\u001b[0m\u001b[0m\n",
      "\u001b[0;32m~/anaconda2/envs/torch/lib/python3.6/site-packages/torch/nn/functional.py\u001b[0m in \u001b[0;36mbinary_cross_entropy\u001b[0;34m(input, target, weight, size_average)\u001b[0m\n\u001b[1;32m   1177\u001b[0m             \u001b[0mweight\u001b[0m \u001b[0;34m=\u001b[0m \u001b[0mVariable\u001b[0m\u001b[0;34m(\u001b[0m\u001b[0mweight\u001b[0m\u001b[0;34m)\u001b[0m\u001b[0;34m\u001b[0m\u001b[0m\n\u001b[1;32m   1178\u001b[0m \u001b[0;34m\u001b[0m\u001b[0m\n\u001b[0;32m-> 1179\u001b[0;31m     \u001b[0;32mreturn\u001b[0m \u001b[0mtorch\u001b[0m\u001b[0;34m.\u001b[0m\u001b[0m_C\u001b[0m\u001b[0;34m.\u001b[0m\u001b[0m_nn\u001b[0m\u001b[0;34m.\u001b[0m\u001b[0mbinary_cross_entropy\u001b[0m\u001b[0;34m(\u001b[0m\u001b[0minput\u001b[0m\u001b[0;34m,\u001b[0m \u001b[0mtarget\u001b[0m\u001b[0;34m,\u001b[0m \u001b[0mweight\u001b[0m\u001b[0;34m,\u001b[0m \u001b[0msize_average\u001b[0m\u001b[0;34m)\u001b[0m\u001b[0;34m\u001b[0m\u001b[0m\n\u001b[0m\u001b[1;32m   1180\u001b[0m \u001b[0;34m\u001b[0m\u001b[0m\n\u001b[1;32m   1181\u001b[0m \u001b[0;34m\u001b[0m\u001b[0m\n",
      "\u001b[0;31mKeyboardInterrupt\u001b[0m: "
     ]
    }
   ],
   "source": [
    "from tqdm import tqdm\n",
    "for k in tqdm(range(num_steps)):\n",
    "    d.zero_grad()\n",
    "    \n",
    "    # Train d on real\n",
    "    x_train = x[np.random.randint(0, x.shape[0], batch_size)]\n",
    "    x_train = Variable(torch.from_numpy(x_train).cuda())\n",
    "    y_train = torch.ones(batch_size, 1)\n",
    "    y_train = Variable(y_train.cuda())\n",
    "    \n",
    "    y_pred = d(x_train)\n",
    "    d_loss = criterion(y_pred, y_train)\n",
    "    d_loss.backward()\n",
    "    \n",
    "    # Train d on fake\n",
    "    z = torch.Tensor(batch_size, latent_size, 1, 1).normal_(0, 1)\n",
    "    z = Variable(z.cuda(), requires_grad=False)\n",
    "    y_train = torch.zeros(batch_size, 1)\n",
    "    y_train = Variable(y_train.cuda())\n",
    "    \n",
    "    x_train = g(z).detach()\n",
    "    y_pred = d(x_train)\n",
    "    d_loss = criterion(y_pred, y_train)\n",
    "    d_loss.backward()\n",
    "    \n",
    "    d_optimizer.step()\n",
    "    \n",
    "    # Train g\n",
    "    g.zero_grad()\n",
    "    \n",
    "    z = torch.Tensor(batch_size, latent_size, 1, 1).normal_(0, 1)\n",
    "    z = Variable(z.cuda(), requires_grad=False)\n",
    "    y_train = torch.ones(batch_size, 1)\n",
    "    y_train = Variable(y_train.cuda())\n",
    "    \n",
    "    x_train = g(z)\n",
    "    y_pred = d(x_train)\n",
    "    g_loss = criterion(y_pred, y_train)\n",
    "    g_loss.backward()  \n",
    "    \n",
    "    g_optimizer.step()\n",
    "    \n",
    "    if k%100 ==0:\n",
    "        z_fixed = Variable(torch.from_numpy(z_fixed_npy).cuda(),requires_grad=False)\n",
    "        out_fix = g(z_fixed)\n",
    "        \n",
    "        plt.imshow(out_fix.data[0,0],  cmap=plt.cm.gray)\n",
    "        plt.xticks([])\n",
    "        plt.yticks([])\n",
    "        \n",
    "        plt.savefig(\"mnist_progress//{}.png\".format(k), bbox_inches='tight', dpi=200,)\n",
    "        plt.close()"
   ]
  },
  {
   "cell_type": "code",
   "execution_count": 27,
   "metadata": {
    "slideshow": {
     "slide_type": "slide"
    }
   },
   "outputs": [
    {
     "data": {
      "image/png": "[encoded data removed]",
      "text/plain": [
       "<matplotlib.figure.Figure at 0x7f1ee441fac8>"
      ]
     },
     "metadata": {},
     "output_type": "display_data"
    }
   ],
   "source": [
    "z = torch.Tensor(48, latent_size, 1, 1).normal_(0, 1)\n",
    "z = Variable(z.cuda(), requires_grad=False)\n",
    "y_train = torch.zeros(batch_size, 1)\n",
    "y_train = Variable(y_train.cuda())\n",
    "\n",
    "x_train = g(z).detach()\n",
    "\n",
    "big_picture = make_big_picture(np.array(x_train.data))\n",
    "\n",
    "plt.figure(figsize=(12,12))\n",
    "plt.imshow(big_picture, cmap=plt.cm.gray)\n",
    "plt.xticks([])\n",
    "plt.yticks([]);\n",
    "\n",
    "plt.savefig(\"pics/mnist_synthetic.png\", bbox_inches='tight',)"
   ]
  }
 ],
 "metadata": {
  "kernelspec": {
   "display_name": "Python 3",
   "language": "python",
   "name": "python3"
  },
  "language_info": {
   "codemirror_mode": {
    "name": "ipython",
    "version": 3
   },
   "file_extension": ".py",
   "mimetype": "text/x-python",
   "name": "python",
   "nbconvert_exporter": "python",
   "pygments_lexer": "ipython3",
   "version": "3.6.3"
  },
  "latex_envs": {
   "LaTeX_envs_menu_present": true,
   "autoclose": false,
   "autocomplete": true,
   "bibliofile": "biblio.bib",
   "cite_by": "apalike",
   "current_citInitial": 1,
   "eqLabelWithNumbers": true,
   "eqNumInitial": 1,
   "hotkeys": {
    "equation": "Ctrl-E",
    "itemize": "Ctrl-I"
   },
   "labels_anchors": false,
   "latex_user_defs": false,
   "report_style_numbering": false,
   "user_envs_cfg": false
  }
 },
 "nbformat": 4,
 "nbformat_minor": 2
}
